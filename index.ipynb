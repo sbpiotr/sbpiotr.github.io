{
  "cells": [
    {
      "cell_type": "raw",
      "metadata": {},
      "source": [
        "---\n",
        "title: \"Piotr Stępień\"\n",
        "image: mainphoto.jpeg\n",
        "toc: false\n",
        "about: \n",
        "  template: trestles\n",
        "  image-shape: round\n",
        "  image-width: 20em\n",
        "  links:\n",
        "    - text: Email\n",
        "      href: mailto:ps@syndyko.pl\n",
        "    - text: Telefon\n",
        "      href: tel:+48509997735\n",
        "---"
      ],
      "id": "651a1642"
    },
    {
      "cell_type": "markdown",
      "metadata": {},
      "source": [
        "```{css}\n",
        "<link rel=\"stylesheet\" href=\"path/to/font-awesome/css/font-awesome.min.css\">\n",
        "```\n",
        "\n",
        "\n",
        "## Piotr Stępień - Rzeczoznawca Majątkowy\n",
        "\n",
        "**Doświadczenie i rzetelność w wycenie nieruchomości**\n",
        "\n",
        "Nazywam się Piotr Stępień i jestem rzeczoznawcą majątkowym z wieloletnim doświadczeniem. Ukończyłem studia prawnicze i ekonomiczne na renomowanych uniwersytetach w Polsce, takich jak Uniwersytet Warszawski. Posiadam uprawnienia zawodowe nadane przez Ministra Rozwoju, Pracy i Technologii.\n",
        "\n",
        "**Moje usługi obejmują:**\n",
        "\n",
        "* Wycenę nieruchomości dla celów:\n",
        "    * Kredytów hipotecznych {{< fa fa-home >}} \n",
        "    * Spadków {{< fa fa-last-will >}}\n",
        "    * Podziału majątku {{< fa fa-balance-scale >}}\n",
        "    * Transakcji kupna-sprzedaży {{< fa fa-handshake >}}\n",
        "    * Zabezpieczenia wierzytelności {{< fa fa-lock >}}\n",
        "    * Odszkodowania za inwestycje liniowe {{< fa fa-money-bill-alt >}}\n",
        "* Operaty szacunkowe {{< fa fa-calculator >}}\n",
        "* Opinie i ekspertyzy {{< fa fa-lightbulb >}}\n",
        "\n",
        "**Gwarantuję:**\n",
        "\n",
        "* rzetelne i obiektywne wyceny\n",
        "* indywidualne podejście do każdego Klienta\n",
        "* krótkie terminy realizacji zleceń\n",
        "* konkurencyjne ceny\n",
        "\n",
        "**Zapraszam do skorzystania z moich usług!**\n",
        "\n",
        "**Dlaczego warto wybrać mnie?**\n",
        "\n",
        "* Posiadam szeroką wiedzę i doświadczenie w zakresie wyceny nieruchomości.\n",
        "* Stale podnoszę swoje kwalifikacje, uczestnicząc w kursach i szkoleniach.\n",
        "* Jestem członkiem Warszawskiego Stowarzyszenia Rzeczoznawców Majątkowych.\n",
        "* Dbam o wysoką jakość świadczonych usług.\n",
        "\n",
        "**Zaufało mi wielu Klientów, którzy docenili mój profesjonalizm i rzetelność.**\n",
        "\n",
        "**Skontaktuj się ze mną, a chętnie odpowiem na wszystkie Twoje pytania.**\n",
        "\n",
        "**Przydatne strony internetowe:**\n",
        "\n",
        "* Warszawskie Stowarzyszenia Rzeczoznawców Majątkowych: [https://www.wsrm.waw.pl/en/](http://www.srm.com.pl/)\n",
        "* Ministerstwo Rozwoju, Pracy i Technologii: [https://www.gov.pl/web/rozwoj-technologia](https://www.gov.pl/web/rozwoj-technologia)\n"
      ],
      "id": "98c9ffc5"
    }
  ],
  "metadata": {
    "kernelspec": {
      "display_name": "Python 3",
      "language": "python",
      "name": "python3"
    }
  },
  "nbformat": 4,
  "nbformat_minor": 5
}